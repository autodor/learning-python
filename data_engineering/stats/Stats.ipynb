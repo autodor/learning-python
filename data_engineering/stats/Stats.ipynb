{
 "cells": [
  {
   "cell_type": "code",
   "execution_count": 1,
   "metadata": {
    "collapsed": true
   },
   "outputs": [],
   "source": [
    "import pandas as pd"
   ]
  },
  {
   "cell_type": "code",
   "execution_count": 2,
   "metadata": {
    "collapsed": true
   },
   "outputs": [],
   "source": [
    "required_cols = ['Country', \n",
    "                 'Population', \n",
    "                 'Coastline (coast/area ratio)',\n",
    "                 'GDP ($ per capita)', \n",
    "                 'Literacy (%)', \n",
    "                 'Birthrate']"
   ]
  },
  {
   "cell_type": "code",
   "execution_count": 3,
   "metadata": {},
   "outputs": [],
   "source": [
    "countries = pd.read_csv('datasets/countries_of_the_world.csv', \n",
    "                        usecols = required_cols,\n",
    "                        decimal = ',')"
   ]
  },
  {
   "cell_type": "code",
   "execution_count": 4,
   "metadata": {},
   "outputs": [
    {
     "data": {
      "text/html": [
       "<div>\n",
       "<style scoped>\n",
       "    .dataframe tbody tr th:only-of-type {\n",
       "        vertical-align: middle;\n",
       "    }\n",
       "\n",
       "    .dataframe tbody tr th {\n",
       "        vertical-align: top;\n",
       "    }\n",
       "\n",
       "    .dataframe thead th {\n",
       "        text-align: right;\n",
       "    }\n",
       "</style>\n",
       "<table border=\"1\" class=\"dataframe\">\n",
       "  <thead>\n",
       "    <tr style=\"text-align: right;\">\n",
       "      <th></th>\n",
       "      <th>Country</th>\n",
       "      <th>Population</th>\n",
       "      <th>Coastline (coast/area ratio)</th>\n",
       "      <th>GDP ($ per capita)</th>\n",
       "      <th>Literacy (%)</th>\n",
       "      <th>Birthrate</th>\n",
       "    </tr>\n",
       "  </thead>\n",
       "  <tbody>\n",
       "    <tr>\n",
       "      <th>0</th>\n",
       "      <td>Afghanistan</td>\n",
       "      <td>31056997</td>\n",
       "      <td>0.00</td>\n",
       "      <td>700.0</td>\n",
       "      <td>36.0</td>\n",
       "      <td>46.60</td>\n",
       "    </tr>\n",
       "    <tr>\n",
       "      <th>1</th>\n",
       "      <td>Albania</td>\n",
       "      <td>3581655</td>\n",
       "      <td>1.26</td>\n",
       "      <td>4500.0</td>\n",
       "      <td>86.5</td>\n",
       "      <td>15.11</td>\n",
       "    </tr>\n",
       "    <tr>\n",
       "      <th>2</th>\n",
       "      <td>Algeria</td>\n",
       "      <td>32930091</td>\n",
       "      <td>0.04</td>\n",
       "      <td>6000.0</td>\n",
       "      <td>70.0</td>\n",
       "      <td>17.14</td>\n",
       "    </tr>\n",
       "    <tr>\n",
       "      <th>3</th>\n",
       "      <td>American Samoa</td>\n",
       "      <td>57794</td>\n",
       "      <td>58.29</td>\n",
       "      <td>8000.0</td>\n",
       "      <td>97.0</td>\n",
       "      <td>22.46</td>\n",
       "    </tr>\n",
       "    <tr>\n",
       "      <th>4</th>\n",
       "      <td>Andorra</td>\n",
       "      <td>71201</td>\n",
       "      <td>0.00</td>\n",
       "      <td>19000.0</td>\n",
       "      <td>100.0</td>\n",
       "      <td>8.71</td>\n",
       "    </tr>\n",
       "  </tbody>\n",
       "</table>\n",
       "</div>"
      ],
      "text/plain": [
       "           Country  Population  Coastline (coast/area ratio)  \\\n",
       "0     Afghanistan     31056997                          0.00   \n",
       "1         Albania      3581655                          1.26   \n",
       "2         Algeria     32930091                          0.04   \n",
       "3  American Samoa        57794                         58.29   \n",
       "4         Andorra        71201                          0.00   \n",
       "\n",
       "   GDP ($ per capita)  Literacy (%)  Birthrate  \n",
       "0               700.0          36.0      46.60  \n",
       "1              4500.0          86.5      15.11  \n",
       "2              6000.0          70.0      17.14  \n",
       "3              8000.0          97.0      22.46  \n",
       "4             19000.0         100.0       8.71  "
      ]
     },
     "execution_count": 4,
     "metadata": {},
     "output_type": "execute_result"
    }
   ],
   "source": [
    "countries.head()"
   ]
  },
  {
   "cell_type": "code",
   "execution_count": 5,
   "metadata": {},
   "outputs": [
    {
     "data": {
      "text/html": [
       "<div>\n",
       "<style scoped>\n",
       "    .dataframe tbody tr th:only-of-type {\n",
       "        vertical-align: middle;\n",
       "    }\n",
       "\n",
       "    .dataframe tbody tr th {\n",
       "        vertical-align: top;\n",
       "    }\n",
       "\n",
       "    .dataframe thead th {\n",
       "        text-align: right;\n",
       "    }\n",
       "</style>\n",
       "<table border=\"1\" class=\"dataframe\">\n",
       "  <thead>\n",
       "    <tr style=\"text-align: right;\">\n",
       "      <th></th>\n",
       "      <th>Country</th>\n",
       "      <th>Population</th>\n",
       "      <th>Coastline (coast/area ratio)</th>\n",
       "      <th>PerCapitaGDP</th>\n",
       "      <th>Literacy (%)</th>\n",
       "      <th>Birthrate</th>\n",
       "    </tr>\n",
       "  </thead>\n",
       "  <tbody>\n",
       "    <tr>\n",
       "      <th>0</th>\n",
       "      <td>Afghanistan</td>\n",
       "      <td>31056997</td>\n",
       "      <td>0.00</td>\n",
       "      <td>700.0</td>\n",
       "      <td>36.0</td>\n",
       "      <td>46.60</td>\n",
       "    </tr>\n",
       "    <tr>\n",
       "      <th>1</th>\n",
       "      <td>Albania</td>\n",
       "      <td>3581655</td>\n",
       "      <td>1.26</td>\n",
       "      <td>4500.0</td>\n",
       "      <td>86.5</td>\n",
       "      <td>15.11</td>\n",
       "    </tr>\n",
       "    <tr>\n",
       "      <th>2</th>\n",
       "      <td>Algeria</td>\n",
       "      <td>32930091</td>\n",
       "      <td>0.04</td>\n",
       "      <td>6000.0</td>\n",
       "      <td>70.0</td>\n",
       "      <td>17.14</td>\n",
       "    </tr>\n",
       "    <tr>\n",
       "      <th>3</th>\n",
       "      <td>American Samoa</td>\n",
       "      <td>57794</td>\n",
       "      <td>58.29</td>\n",
       "      <td>8000.0</td>\n",
       "      <td>97.0</td>\n",
       "      <td>22.46</td>\n",
       "    </tr>\n",
       "    <tr>\n",
       "      <th>4</th>\n",
       "      <td>Andorra</td>\n",
       "      <td>71201</td>\n",
       "      <td>0.00</td>\n",
       "      <td>19000.0</td>\n",
       "      <td>100.0</td>\n",
       "      <td>8.71</td>\n",
       "    </tr>\n",
       "  </tbody>\n",
       "</table>\n",
       "</div>"
      ],
      "text/plain": [
       "           Country  Population  Coastline (coast/area ratio)  PerCapitaGDP  \\\n",
       "0     Afghanistan     31056997                          0.00         700.0   \n",
       "1         Albania      3581655                          1.26        4500.0   \n",
       "2         Algeria     32930091                          0.04        6000.0   \n",
       "3  American Samoa        57794                         58.29        8000.0   \n",
       "4         Andorra        71201                          0.00       19000.0   \n",
       "\n",
       "   Literacy (%)  Birthrate  \n",
       "0          36.0      46.60  \n",
       "1          86.5      15.11  \n",
       "2          70.0      17.14  \n",
       "3          97.0      22.46  \n",
       "4         100.0       8.71  "
      ]
     },
     "execution_count": 5,
     "metadata": {},
     "output_type": "execute_result"
    }
   ],
   "source": [
    "countries.rename(columns = {'GDP ($ per capita)': 'PerCapitaGDP'}, \n",
    "                 inplace = True)\n",
    "\n",
    "countries.head()"
   ]
  },
  {
   "cell_type": "code",
   "execution_count": 6,
   "metadata": {
    "collapsed": true
   },
   "outputs": [],
   "source": [
    "countries.rename(columns = {'Coastline (coast/area ratio)': 'CoastlineAreaRatio', \n",
    "                            'Literacy (%)': 'LiteracyRate'}, \n",
    "                 inplace = True)"
   ]
  },
  {
   "cell_type": "code",
   "execution_count": 7,
   "metadata": {},
   "outputs": [
    {
     "data": {
      "text/html": [
       "<div>\n",
       "<style scoped>\n",
       "    .dataframe tbody tr th:only-of-type {\n",
       "        vertical-align: middle;\n",
       "    }\n",
       "\n",
       "    .dataframe tbody tr th {\n",
       "        vertical-align: top;\n",
       "    }\n",
       "\n",
       "    .dataframe thead th {\n",
       "        text-align: right;\n",
       "    }\n",
       "</style>\n",
       "<table border=\"1\" class=\"dataframe\">\n",
       "  <thead>\n",
       "    <tr style=\"text-align: right;\">\n",
       "      <th></th>\n",
       "      <th>Country</th>\n",
       "      <th>Population</th>\n",
       "      <th>CoastlineAreaRatio</th>\n",
       "      <th>PerCapitaGDP</th>\n",
       "      <th>LiteracyRate</th>\n",
       "      <th>Birthrate</th>\n",
       "    </tr>\n",
       "  </thead>\n",
       "  <tbody>\n",
       "    <tr>\n",
       "      <th>0</th>\n",
       "      <td>Afghanistan</td>\n",
       "      <td>31056997</td>\n",
       "      <td>0.00</td>\n",
       "      <td>700.0</td>\n",
       "      <td>36.0</td>\n",
       "      <td>46.60</td>\n",
       "    </tr>\n",
       "    <tr>\n",
       "      <th>1</th>\n",
       "      <td>Albania</td>\n",
       "      <td>3581655</td>\n",
       "      <td>1.26</td>\n",
       "      <td>4500.0</td>\n",
       "      <td>86.5</td>\n",
       "      <td>15.11</td>\n",
       "    </tr>\n",
       "    <tr>\n",
       "      <th>2</th>\n",
       "      <td>Algeria</td>\n",
       "      <td>32930091</td>\n",
       "      <td>0.04</td>\n",
       "      <td>6000.0</td>\n",
       "      <td>70.0</td>\n",
       "      <td>17.14</td>\n",
       "    </tr>\n",
       "    <tr>\n",
       "      <th>3</th>\n",
       "      <td>American Samoa</td>\n",
       "      <td>57794</td>\n",
       "      <td>58.29</td>\n",
       "      <td>8000.0</td>\n",
       "      <td>97.0</td>\n",
       "      <td>22.46</td>\n",
       "    </tr>\n",
       "    <tr>\n",
       "      <th>4</th>\n",
       "      <td>Andorra</td>\n",
       "      <td>71201</td>\n",
       "      <td>0.00</td>\n",
       "      <td>19000.0</td>\n",
       "      <td>100.0</td>\n",
       "      <td>8.71</td>\n",
       "    </tr>\n",
       "  </tbody>\n",
       "</table>\n",
       "</div>"
      ],
      "text/plain": [
       "           Country  Population  CoastlineAreaRatio  PerCapitaGDP  \\\n",
       "0     Afghanistan     31056997                0.00         700.0   \n",
       "1         Albania      3581655                1.26        4500.0   \n",
       "2         Algeria     32930091                0.04        6000.0   \n",
       "3  American Samoa        57794               58.29        8000.0   \n",
       "4         Andorra        71201                0.00       19000.0   \n",
       "\n",
       "   LiteracyRate  Birthrate  \n",
       "0          36.0      46.60  \n",
       "1          86.5      15.11  \n",
       "2          70.0      17.14  \n",
       "3          97.0      22.46  \n",
       "4         100.0       8.71  "
      ]
     },
     "execution_count": 7,
     "metadata": {},
     "output_type": "execute_result"
    }
   ],
   "source": [
    "countries.head()"
   ]
  },
  {
   "cell_type": "code",
   "execution_count": 8,
   "metadata": {},
   "outputs": [
    {
     "data": {
      "text/plain": [
       "0"
      ]
     },
     "execution_count": 8,
     "metadata": {},
     "output_type": "execute_result"
    }
   ],
   "source": [
    "countries['Population'].isna().sum()"
   ]
  },
  {
   "cell_type": "code",
   "execution_count": 9,
   "metadata": {},
   "outputs": [
    {
     "data": {
      "text/plain": [
       "6524044551"
      ]
     },
     "execution_count": 9,
     "metadata": {},
     "output_type": "execute_result"
    }
   ],
   "source": [
    "world_population = countries['Population'].sum()\n",
    "\n",
    "world_population"
   ]
  },
  {
   "cell_type": "code",
   "execution_count": 10,
   "metadata": {},
   "outputs": [
    {
     "data": {
      "text/plain": [
       "Country                0\n",
       "Population             0\n",
       "CoastlineAreaRatio     0\n",
       "PerCapitaGDP           1\n",
       "LiteracyRate          18\n",
       "Birthrate              3\n",
       "dtype: int64"
      ]
     },
     "execution_count": 10,
     "metadata": {},
     "output_type": "execute_result"
    }
   ],
   "source": [
    "countries.isna().sum()"
   ]
  },
  {
   "cell_type": "code",
   "execution_count": 11,
   "metadata": {
    "collapsed": true
   },
   "outputs": [],
   "source": [
    "countries = countries.dropna()"
   ]
  },
  {
   "cell_type": "code",
   "execution_count": 12,
   "metadata": {},
   "outputs": [
    {
     "data": {
      "text/plain": [
       "(207, 6)"
      ]
     },
     "execution_count": 12,
     "metadata": {},
     "output_type": "execute_result"
    }
   ],
   "source": [
    "countries.shape"
   ]
  },
  {
   "cell_type": "code",
   "execution_count": 13,
   "metadata": {},
   "outputs": [
    {
     "data": {
      "text/plain": [
       "17.6"
      ]
     },
     "execution_count": 13,
     "metadata": {},
     "output_type": "execute_result"
    }
   ],
   "source": [
    "countries.LiteracyRate.min()"
   ]
  },
  {
   "cell_type": "code",
   "execution_count": 14,
   "metadata": {},
   "outputs": [
    {
     "data": {
      "text/plain": [
       "100.0"
      ]
     },
     "execution_count": 14,
     "metadata": {},
     "output_type": "execute_result"
    }
   ],
   "source": [
    "countries.LiteracyRate.max()"
   ]
  },
  {
   "cell_type": "code",
   "execution_count": 15,
   "metadata": {},
   "outputs": [
    {
     "data": {
      "text/plain": [
       "17.6"
      ]
     },
     "execution_count": 15,
     "metadata": {},
     "output_type": "execute_result"
    }
   ],
   "source": [
    "countries.LiteracyRate.min()"
   ]
  },
  {
   "cell_type": "code",
   "execution_count": 16,
   "metadata": {},
   "outputs": [
    {
     "data": {
      "text/plain": [
       "151"
      ]
     },
     "execution_count": 16,
     "metadata": {},
     "output_type": "execute_result"
    }
   ],
   "source": [
    "countries.LiteracyRate.idxmin()"
   ]
  },
  {
   "cell_type": "code",
   "execution_count": 17,
   "metadata": {},
   "outputs": [
    {
     "data": {
      "text/plain": [
       "'Niger '"
      ]
     },
     "execution_count": 17,
     "metadata": {},
     "output_type": "execute_result"
    }
   ],
   "source": [
    "countries['Country'][countries.LiteracyRate.idxmin()]"
   ]
  },
  {
   "cell_type": "code",
   "execution_count": 18,
   "metadata": {},
   "outputs": [
    {
     "data": {
      "text/plain": [
       "4"
      ]
     },
     "execution_count": 18,
     "metadata": {},
     "output_type": "execute_result"
    }
   ],
   "source": [
    "countries.LiteracyRate.idxmax()"
   ]
  },
  {
   "cell_type": "code",
   "execution_count": 19,
   "metadata": {},
   "outputs": [
    {
     "data": {
      "text/plain": [
       "100.0"
      ]
     },
     "execution_count": 19,
     "metadata": {},
     "output_type": "execute_result"
    }
   ],
   "source": [
    "countries['LiteracyRate'][countries.LiteracyRate.idxmax()]"
   ]
  },
  {
   "cell_type": "code",
   "execution_count": 20,
   "metadata": {},
   "outputs": [
    {
     "data": {
      "text/html": [
       "<div>\n",
       "<style scoped>\n",
       "    .dataframe tbody tr th:only-of-type {\n",
       "        vertical-align: middle;\n",
       "    }\n",
       "\n",
       "    .dataframe tbody tr th {\n",
       "        vertical-align: top;\n",
       "    }\n",
       "\n",
       "    .dataframe thead th {\n",
       "        text-align: right;\n",
       "    }\n",
       "</style>\n",
       "<table border=\"1\" class=\"dataframe\">\n",
       "  <thead>\n",
       "    <tr style=\"text-align: right;\">\n",
       "      <th></th>\n",
       "      <th>Country</th>\n",
       "      <th>Population</th>\n",
       "      <th>CoastlineAreaRatio</th>\n",
       "      <th>PerCapitaGDP</th>\n",
       "      <th>LiteracyRate</th>\n",
       "      <th>Birthrate</th>\n",
       "    </tr>\n",
       "  </thead>\n",
       "  <tbody>\n",
       "    <tr>\n",
       "      <th>4</th>\n",
       "      <td>Andorra</td>\n",
       "      <td>71201</td>\n",
       "      <td>0.00</td>\n",
       "      <td>19000.0</td>\n",
       "      <td>100.0</td>\n",
       "      <td>8.71</td>\n",
       "    </tr>\n",
       "    <tr>\n",
       "      <th>11</th>\n",
       "      <td>Australia</td>\n",
       "      <td>20264082</td>\n",
       "      <td>0.34</td>\n",
       "      <td>29000.0</td>\n",
       "      <td>100.0</td>\n",
       "      <td>12.14</td>\n",
       "    </tr>\n",
       "    <tr>\n",
       "      <th>54</th>\n",
       "      <td>Denmark</td>\n",
       "      <td>5450661</td>\n",
       "      <td>16.97</td>\n",
       "      <td>31100.0</td>\n",
       "      <td>100.0</td>\n",
       "      <td>11.13</td>\n",
       "    </tr>\n",
       "    <tr>\n",
       "      <th>68</th>\n",
       "      <td>Finland</td>\n",
       "      <td>5231372</td>\n",
       "      <td>0.37</td>\n",
       "      <td>27400.0</td>\n",
       "      <td>100.0</td>\n",
       "      <td>10.45</td>\n",
       "    </tr>\n",
       "    <tr>\n",
       "      <th>119</th>\n",
       "      <td>Liechtenstein</td>\n",
       "      <td>33987</td>\n",
       "      <td>0.00</td>\n",
       "      <td>25000.0</td>\n",
       "      <td>100.0</td>\n",
       "      <td>10.21</td>\n",
       "    </tr>\n",
       "    <tr>\n",
       "      <th>121</th>\n",
       "      <td>Luxembourg</td>\n",
       "      <td>474413</td>\n",
       "      <td>0.00</td>\n",
       "      <td>55100.0</td>\n",
       "      <td>100.0</td>\n",
       "      <td>11.94</td>\n",
       "    </tr>\n",
       "    <tr>\n",
       "      <th>154</th>\n",
       "      <td>Norway</td>\n",
       "      <td>4610820</td>\n",
       "      <td>7.77</td>\n",
       "      <td>37800.0</td>\n",
       "      <td>100.0</td>\n",
       "      <td>11.46</td>\n",
       "    </tr>\n",
       "  </tbody>\n",
       "</table>\n",
       "</div>"
      ],
      "text/plain": [
       "            Country  Population  CoastlineAreaRatio  PerCapitaGDP  \\\n",
       "4          Andorra        71201                0.00       19000.0   \n",
       "11       Australia     20264082                0.34       29000.0   \n",
       "54         Denmark      5450661               16.97       31100.0   \n",
       "68         Finland      5231372                0.37       27400.0   \n",
       "119  Liechtenstein        33987                0.00       25000.0   \n",
       "121     Luxembourg       474413                0.00       55100.0   \n",
       "154         Norway      4610820                7.77       37800.0   \n",
       "\n",
       "     LiteracyRate  Birthrate  \n",
       "4           100.0       8.71  \n",
       "11          100.0      12.14  \n",
       "54          100.0      11.13  \n",
       "68          100.0      10.45  \n",
       "119         100.0      10.21  \n",
       "121         100.0      11.94  \n",
       "154         100.0      11.46  "
      ]
     },
     "execution_count": 20,
     "metadata": {},
     "output_type": "execute_result"
    }
   ],
   "source": [
    "countries[countries['LiteracyRate'] == countries.LiteracyRate.max()]"
   ]
  },
  {
   "cell_type": "code",
   "execution_count": 21,
   "metadata": {},
   "outputs": [
    {
     "data": {
      "text/plain": [
       "82.94782608695652"
      ]
     },
     "execution_count": 21,
     "metadata": {},
     "output_type": "execute_result"
    }
   ],
   "source": [
    "countries.LiteracyRate.mean()"
   ]
  },
  {
   "cell_type": "code",
   "execution_count": 22,
   "metadata": {},
   "outputs": [
    {
     "data": {
      "text/plain": [
       "92.5"
      ]
     },
     "execution_count": 22,
     "metadata": {},
     "output_type": "execute_result"
    }
   ],
   "source": [
    "countries.LiteracyRate.median()"
   ]
  },
  {
   "cell_type": "code",
   "execution_count": 23,
   "metadata": {},
   "outputs": [
    {
     "data": {
      "text/plain": [
       "19.672122668886164"
      ]
     },
     "execution_count": 23,
     "metadata": {},
     "output_type": "execute_result"
    }
   ],
   "source": [
    "countries.LiteracyRate.std()"
   ]
  },
  {
   "cell_type": "code",
   "execution_count": 24,
   "metadata": {},
   "outputs": [
    {
     "data": {
      "text/plain": [
       "92.5"
      ]
     },
     "execution_count": 24,
     "metadata": {},
     "output_type": "execute_result"
    }
   ],
   "source": [
    "countries.LiteracyRate.quantile(0.5)"
   ]
  },
  {
   "cell_type": "code",
   "execution_count": 25,
   "metadata": {},
   "outputs": [
    {
     "data": {
      "text/plain": [
       "0.25    72.4\n",
       "0.50    92.5\n",
       "0.75    98.0\n",
       "Name: LiteracyRate, dtype: float64"
      ]
     },
     "execution_count": 25,
     "metadata": {},
     "output_type": "execute_result"
    }
   ],
   "source": [
    "countries.LiteracyRate.quantile([0.25, 0.5, 0.75])"
   ]
  },
  {
   "cell_type": "code",
   "execution_count": 26,
   "metadata": {},
   "outputs": [
    {
     "data": {
      "text/html": [
       "<div>\n",
       "<style scoped>\n",
       "    .dataframe tbody tr th:only-of-type {\n",
       "        vertical-align: middle;\n",
       "    }\n",
       "\n",
       "    .dataframe tbody tr th {\n",
       "        vertical-align: top;\n",
       "    }\n",
       "\n",
       "    .dataframe thead th {\n",
       "        text-align: right;\n",
       "    }\n",
       "</style>\n",
       "<table border=\"1\" class=\"dataframe\">\n",
       "  <thead>\n",
       "    <tr style=\"text-align: right;\">\n",
       "      <th></th>\n",
       "      <th>Population</th>\n",
       "      <th>CoastlineAreaRatio</th>\n",
       "      <th>PerCapitaGDP</th>\n",
       "      <th>LiteracyRate</th>\n",
       "      <th>Birthrate</th>\n",
       "    </tr>\n",
       "  </thead>\n",
       "  <tbody>\n",
       "    <tr>\n",
       "      <th>count</th>\n",
       "      <td>2.070000e+02</td>\n",
       "      <td>207.000000</td>\n",
       "      <td>207.000000</td>\n",
       "      <td>207.000000</td>\n",
       "      <td>207.000000</td>\n",
       "    </tr>\n",
       "    <tr>\n",
       "      <th>mean</th>\n",
       "      <td>3.138708e+07</td>\n",
       "      <td>18.773043</td>\n",
       "      <td>9675.362319</td>\n",
       "      <td>82.947826</td>\n",
       "      <td>22.312802</td>\n",
       "    </tr>\n",
       "    <tr>\n",
       "      <th>std</th>\n",
       "      <td>1.231555e+08</td>\n",
       "      <td>73.449820</td>\n",
       "      <td>10170.021706</td>\n",
       "      <td>19.672123</td>\n",
       "      <td>11.188104</td>\n",
       "    </tr>\n",
       "    <tr>\n",
       "      <th>min</th>\n",
       "      <td>7.026000e+03</td>\n",
       "      <td>0.000000</td>\n",
       "      <td>500.000000</td>\n",
       "      <td>17.600000</td>\n",
       "      <td>7.290000</td>\n",
       "    </tr>\n",
       "    <tr>\n",
       "      <th>25%</th>\n",
       "      <td>7.329150e+05</td>\n",
       "      <td>0.100000</td>\n",
       "      <td>1900.000000</td>\n",
       "      <td>72.400000</td>\n",
       "      <td>12.835000</td>\n",
       "    </tr>\n",
       "    <tr>\n",
       "      <th>50%</th>\n",
       "      <td>5.900754e+06</td>\n",
       "      <td>0.700000</td>\n",
       "      <td>5500.000000</td>\n",
       "      <td>92.500000</td>\n",
       "      <td>18.900000</td>\n",
       "    </tr>\n",
       "    <tr>\n",
       "      <th>75%</th>\n",
       "      <td>2.024316e+07</td>\n",
       "      <td>7.415000</td>\n",
       "      <td>14700.000000</td>\n",
       "      <td>98.000000</td>\n",
       "      <td>29.770000</td>\n",
       "    </tr>\n",
       "    <tr>\n",
       "      <th>max</th>\n",
       "      <td>1.313974e+09</td>\n",
       "      <td>870.660000</td>\n",
       "      <td>55100.000000</td>\n",
       "      <td>100.000000</td>\n",
       "      <td>50.730000</td>\n",
       "    </tr>\n",
       "  </tbody>\n",
       "</table>\n",
       "</div>"
      ],
      "text/plain": [
       "         Population  CoastlineAreaRatio  PerCapitaGDP  LiteracyRate  \\\n",
       "count  2.070000e+02          207.000000    207.000000    207.000000   \n",
       "mean   3.138708e+07           18.773043   9675.362319     82.947826   \n",
       "std    1.231555e+08           73.449820  10170.021706     19.672123   \n",
       "min    7.026000e+03            0.000000    500.000000     17.600000   \n",
       "25%    7.329150e+05            0.100000   1900.000000     72.400000   \n",
       "50%    5.900754e+06            0.700000   5500.000000     92.500000   \n",
       "75%    2.024316e+07            7.415000  14700.000000     98.000000   \n",
       "max    1.313974e+09          870.660000  55100.000000    100.000000   \n",
       "\n",
       "        Birthrate  \n",
       "count  207.000000  \n",
       "mean    22.312802  \n",
       "std     11.188104  \n",
       "min      7.290000  \n",
       "25%     12.835000  \n",
       "50%     18.900000  \n",
       "75%     29.770000  \n",
       "max     50.730000  "
      ]
     },
     "execution_count": 26,
     "metadata": {},
     "output_type": "execute_result"
    }
   ],
   "source": [
    "countries.describe()"
   ]
  },
  {
   "cell_type": "code",
   "execution_count": 27,
   "metadata": {},
   "outputs": [
    {
     "data": {
      "text/plain": [
       "0    99.0\n",
       "dtype: float64"
      ]
     },
     "execution_count": 27,
     "metadata": {},
     "output_type": "execute_result"
    }
   ],
   "source": [
    "countries.LiteracyRate.mode()"
   ]
  },
  {
   "cell_type": "code",
   "execution_count": 28,
   "metadata": {},
   "outputs": [
    {
     "data": {
      "text/plain": [
       "-1.233903412331758"
      ]
     },
     "execution_count": 28,
     "metadata": {},
     "output_type": "execute_result"
    }
   ],
   "source": [
    "countries.LiteracyRate.skew()"
   ]
  },
  {
   "cell_type": "code",
   "execution_count": 29,
   "metadata": {},
   "outputs": [
    {
     "data": {
      "text/plain": [
       "0.4147343707691684"
      ]
     },
     "execution_count": 29,
     "metadata": {},
     "output_type": "execute_result"
    }
   ],
   "source": [
    "countries.LiteracyRate.kurtosis()"
   ]
  },
  {
   "cell_type": "markdown",
   "metadata": {},
   "source": [
    "#### Examine relationships between two variables"
   ]
  },
  {
   "cell_type": "code",
   "execution_count": 30,
   "metadata": {},
   "outputs": [
    {
     "data": {
      "text/html": [
       "<div>\n",
       "<style scoped>\n",
       "    .dataframe tbody tr th:only-of-type {\n",
       "        vertical-align: middle;\n",
       "    }\n",
       "\n",
       "    .dataframe tbody tr th {\n",
       "        vertical-align: top;\n",
       "    }\n",
       "\n",
       "    .dataframe thead th {\n",
       "        text-align: right;\n",
       "    }\n",
       "</style>\n",
       "<table border=\"1\" class=\"dataframe\">\n",
       "  <thead>\n",
       "    <tr style=\"text-align: right;\">\n",
       "      <th></th>\n",
       "      <th>CoastlineAreaRatio</th>\n",
       "      <th>PerCapitaGDP</th>\n",
       "    </tr>\n",
       "  </thead>\n",
       "  <tbody>\n",
       "    <tr>\n",
       "      <th>CoastlineAreaRatio</th>\n",
       "      <td>1.000000</td>\n",
       "      <td>0.048052</td>\n",
       "    </tr>\n",
       "    <tr>\n",
       "      <th>PerCapitaGDP</th>\n",
       "      <td>0.048052</td>\n",
       "      <td>1.000000</td>\n",
       "    </tr>\n",
       "  </tbody>\n",
       "</table>\n",
       "</div>"
      ],
      "text/plain": [
       "                    CoastlineAreaRatio  PerCapitaGDP\n",
       "CoastlineAreaRatio            1.000000      0.048052\n",
       "PerCapitaGDP                  0.048052      1.000000"
      ]
     },
     "execution_count": 30,
     "metadata": {},
     "output_type": "execute_result"
    }
   ],
   "source": [
    "countries[['CoastlineAreaRatio', 'PerCapitaGDP']].corr()"
   ]
  },
  {
   "cell_type": "code",
   "execution_count": 31,
   "metadata": {},
   "outputs": [
    {
     "data": {
      "text/html": [
       "<div>\n",
       "<style scoped>\n",
       "    .dataframe tbody tr th:only-of-type {\n",
       "        vertical-align: middle;\n",
       "    }\n",
       "\n",
       "    .dataframe tbody tr th {\n",
       "        vertical-align: top;\n",
       "    }\n",
       "\n",
       "    .dataframe thead th {\n",
       "        text-align: right;\n",
       "    }\n",
       "</style>\n",
       "<table border=\"1\" class=\"dataframe\">\n",
       "  <thead>\n",
       "    <tr style=\"text-align: right;\">\n",
       "      <th></th>\n",
       "      <th>LiteracyRate</th>\n",
       "      <th>PerCapitaGDP</th>\n",
       "    </tr>\n",
       "  </thead>\n",
       "  <tbody>\n",
       "    <tr>\n",
       "      <th>LiteracyRate</th>\n",
       "      <td>1.000000</td>\n",
       "      <td>0.515122</td>\n",
       "    </tr>\n",
       "    <tr>\n",
       "      <th>PerCapitaGDP</th>\n",
       "      <td>0.515122</td>\n",
       "      <td>1.000000</td>\n",
       "    </tr>\n",
       "  </tbody>\n",
       "</table>\n",
       "</div>"
      ],
      "text/plain": [
       "              LiteracyRate  PerCapitaGDP\n",
       "LiteracyRate      1.000000      0.515122\n",
       "PerCapitaGDP      0.515122      1.000000"
      ]
     },
     "execution_count": 31,
     "metadata": {},
     "output_type": "execute_result"
    }
   ],
   "source": [
    "countries[['LiteracyRate', 'PerCapitaGDP']].corr()"
   ]
  },
  {
   "cell_type": "code",
   "execution_count": 32,
   "metadata": {},
   "outputs": [
    {
     "data": {
      "text/html": [
       "<div>\n",
       "<style scoped>\n",
       "    .dataframe tbody tr th:only-of-type {\n",
       "        vertical-align: middle;\n",
       "    }\n",
       "\n",
       "    .dataframe tbody tr th {\n",
       "        vertical-align: top;\n",
       "    }\n",
       "\n",
       "    .dataframe thead th {\n",
       "        text-align: right;\n",
       "    }\n",
       "</style>\n",
       "<table border=\"1\" class=\"dataframe\">\n",
       "  <thead>\n",
       "    <tr style=\"text-align: right;\">\n",
       "      <th></th>\n",
       "      <th>Birthrate</th>\n",
       "      <th>PerCapitaGDP</th>\n",
       "    </tr>\n",
       "  </thead>\n",
       "  <tbody>\n",
       "    <tr>\n",
       "      <th>Birthrate</th>\n",
       "      <td>1.000000</td>\n",
       "      <td>-0.642601</td>\n",
       "    </tr>\n",
       "    <tr>\n",
       "      <th>PerCapitaGDP</th>\n",
       "      <td>-0.642601</td>\n",
       "      <td>1.000000</td>\n",
       "    </tr>\n",
       "  </tbody>\n",
       "</table>\n",
       "</div>"
      ],
      "text/plain": [
       "              Birthrate  PerCapitaGDP\n",
       "Birthrate      1.000000     -0.642601\n",
       "PerCapitaGDP  -0.642601      1.000000"
      ]
     },
     "execution_count": 32,
     "metadata": {},
     "output_type": "execute_result"
    }
   ],
   "source": [
    "countries[['Birthrate', 'PerCapitaGDP']].corr()"
   ]
  },
  {
   "cell_type": "code",
   "execution_count": 33,
   "metadata": {},
   "outputs": [
    {
     "data": {
      "text/html": [
       "<div>\n",
       "<style scoped>\n",
       "    .dataframe tbody tr th:only-of-type {\n",
       "        vertical-align: middle;\n",
       "    }\n",
       "\n",
       "    .dataframe tbody tr th {\n",
       "        vertical-align: top;\n",
       "    }\n",
       "\n",
       "    .dataframe thead th {\n",
       "        text-align: right;\n",
       "    }\n",
       "</style>\n",
       "<table border=\"1\" class=\"dataframe\">\n",
       "  <thead>\n",
       "    <tr style=\"text-align: right;\">\n",
       "      <th></th>\n",
       "      <th>Population</th>\n",
       "      <th>CoastlineAreaRatio</th>\n",
       "      <th>PerCapitaGDP</th>\n",
       "      <th>LiteracyRate</th>\n",
       "      <th>Birthrate</th>\n",
       "    </tr>\n",
       "  </thead>\n",
       "  <tbody>\n",
       "    <tr>\n",
       "      <th>Population</th>\n",
       "      <td>1.000000</td>\n",
       "      <td>-0.061882</td>\n",
       "      <td>-0.039922</td>\n",
       "      <td>-0.045429</td>\n",
       "      <td>-0.051190</td>\n",
       "    </tr>\n",
       "    <tr>\n",
       "      <th>CoastlineAreaRatio</th>\n",
       "      <td>-0.061882</td>\n",
       "      <td>1.000000</td>\n",
       "      <td>0.048052</td>\n",
       "      <td>0.121786</td>\n",
       "      <td>-0.075255</td>\n",
       "    </tr>\n",
       "    <tr>\n",
       "      <th>PerCapitaGDP</th>\n",
       "      <td>-0.039922</td>\n",
       "      <td>0.048052</td>\n",
       "      <td>1.000000</td>\n",
       "      <td>0.515122</td>\n",
       "      <td>-0.642601</td>\n",
       "    </tr>\n",
       "    <tr>\n",
       "      <th>LiteracyRate</th>\n",
       "      <td>-0.045429</td>\n",
       "      <td>0.121786</td>\n",
       "      <td>0.515122</td>\n",
       "      <td>1.000000</td>\n",
       "      <td>-0.790846</td>\n",
       "    </tr>\n",
       "    <tr>\n",
       "      <th>Birthrate</th>\n",
       "      <td>-0.051190</td>\n",
       "      <td>-0.075255</td>\n",
       "      <td>-0.642601</td>\n",
       "      <td>-0.790846</td>\n",
       "      <td>1.000000</td>\n",
       "    </tr>\n",
       "  </tbody>\n",
       "</table>\n",
       "</div>"
      ],
      "text/plain": [
       "                    Population  CoastlineAreaRatio  PerCapitaGDP  \\\n",
       "Population            1.000000           -0.061882     -0.039922   \n",
       "CoastlineAreaRatio   -0.061882            1.000000      0.048052   \n",
       "PerCapitaGDP         -0.039922            0.048052      1.000000   \n",
       "LiteracyRate         -0.045429            0.121786      0.515122   \n",
       "Birthrate            -0.051190           -0.075255     -0.642601   \n",
       "\n",
       "                    LiteracyRate  Birthrate  \n",
       "Population             -0.045429  -0.051190  \n",
       "CoastlineAreaRatio      0.121786  -0.075255  \n",
       "PerCapitaGDP            0.515122  -0.642601  \n",
       "LiteracyRate            1.000000  -0.790846  \n",
       "Birthrate              -0.790846   1.000000  "
      ]
     },
     "execution_count": 33,
     "metadata": {},
     "output_type": "execute_result"
    }
   ],
   "source": [
    "countries.corr()"
   ]
  },
  {
   "cell_type": "code",
   "execution_count": 35,
   "metadata": {},
   "outputs": [
    {
     "data": {
      "text/html": [
       "<div>\n",
       "<style scoped>\n",
       "    .dataframe tbody tr th:only-of-type {\n",
       "        vertical-align: middle;\n",
       "    }\n",
       "\n",
       "    .dataframe tbody tr th {\n",
       "        vertical-align: top;\n",
       "    }\n",
       "\n",
       "    .dataframe thead th {\n",
       "        text-align: right;\n",
       "    }\n",
       "</style>\n",
       "<table border=\"1\" class=\"dataframe\">\n",
       "  <thead>\n",
       "    <tr style=\"text-align: right;\">\n",
       "      <th></th>\n",
       "      <th>Population</th>\n",
       "      <th>CoastlineAreaRatio</th>\n",
       "      <th>PerCapitaGDP</th>\n",
       "      <th>LiteracyRate</th>\n",
       "      <th>Birthrate</th>\n",
       "    </tr>\n",
       "  </thead>\n",
       "  <tbody>\n",
       "    <tr>\n",
       "      <th>Population</th>\n",
       "      <td>1.516727e+16</td>\n",
       "      <td>-5.597718e+08</td>\n",
       "      <td>-5.000204e+10</td>\n",
       "      <td>-1.100619e+08</td>\n",
       "      <td>-7.053309e+07</td>\n",
       "    </tr>\n",
       "    <tr>\n",
       "      <th>CoastlineAreaRatio</th>\n",
       "      <td>-5.597718e+08</td>\n",
       "      <td>5.394876e+03</td>\n",
       "      <td>3.589389e+04</td>\n",
       "      <td>1.759706e+02</td>\n",
       "      <td>-6.184219e+01</td>\n",
       "    </tr>\n",
       "    <tr>\n",
       "      <th>PerCapitaGDP</th>\n",
       "      <td>-5.000204e+10</td>\n",
       "      <td>3.589389e+04</td>\n",
       "      <td>1.034293e+08</td>\n",
       "      <td>1.030583e+05</td>\n",
       "      <td>-7.311728e+04</td>\n",
       "    </tr>\n",
       "    <tr>\n",
       "      <th>LiteracyRate</th>\n",
       "      <td>-1.100619e+08</td>\n",
       "      <td>1.759706e+02</td>\n",
       "      <td>1.030583e+05</td>\n",
       "      <td>3.869924e+02</td>\n",
       "      <td>-1.740603e+02</td>\n",
       "    </tr>\n",
       "    <tr>\n",
       "      <th>Birthrate</th>\n",
       "      <td>-7.053309e+07</td>\n",
       "      <td>-6.184219e+01</td>\n",
       "      <td>-7.311728e+04</td>\n",
       "      <td>-1.740603e+02</td>\n",
       "      <td>1.251737e+02</td>\n",
       "    </tr>\n",
       "  </tbody>\n",
       "</table>\n",
       "</div>"
      ],
      "text/plain": [
       "                      Population  CoastlineAreaRatio  PerCapitaGDP  \\\n",
       "Population          1.516727e+16       -5.597718e+08 -5.000204e+10   \n",
       "CoastlineAreaRatio -5.597718e+08        5.394876e+03  3.589389e+04   \n",
       "PerCapitaGDP       -5.000204e+10        3.589389e+04  1.034293e+08   \n",
       "LiteracyRate       -1.100619e+08        1.759706e+02  1.030583e+05   \n",
       "Birthrate          -7.053309e+07       -6.184219e+01 -7.311728e+04   \n",
       "\n",
       "                    LiteracyRate     Birthrate  \n",
       "Population         -1.100619e+08 -7.053309e+07  \n",
       "CoastlineAreaRatio  1.759706e+02 -6.184219e+01  \n",
       "PerCapitaGDP        1.030583e+05 -7.311728e+04  \n",
       "LiteracyRate        3.869924e+02 -1.740603e+02  \n",
       "Birthrate          -1.740603e+02  1.251737e+02  "
      ]
     },
     "execution_count": 35,
     "metadata": {},
     "output_type": "execute_result"
    }
   ],
   "source": [
    "countries.cov()"
   ]
  },
  {
   "cell_type": "code",
   "execution_count": null,
   "metadata": {
    "collapsed": true
   },
   "outputs": [],
   "source": []
  },
  {
   "cell_type": "code",
   "execution_count": null,
   "metadata": {
    "collapsed": true
   },
   "outputs": [],
   "source": []
  },
  {
   "cell_type": "code",
   "execution_count": null,
   "metadata": {
    "collapsed": true
   },
   "outputs": [],
   "source": []
  },
  {
   "cell_type": "code",
   "execution_count": null,
   "metadata": {
    "collapsed": true
   },
   "outputs": [],
   "source": []
  },
  {
   "cell_type": "code",
   "execution_count": null,
   "metadata": {
    "collapsed": true
   },
   "outputs": [],
   "source": []
  }
 ],
 "metadata": {
  "kernelspec": {
   "display_name": "Python 3",
   "language": "python",
   "name": "python3"
  },
  "language_info": {
   "codemirror_mode": {
    "name": "ipython",
    "version": 3
   },
   "file_extension": ".py",
   "mimetype": "text/x-python",
   "name": "python",
   "nbconvert_exporter": "python",
   "pygments_lexer": "ipython3",
   "version": "3.6.3"
  }
 },
 "nbformat": 4,
 "nbformat_minor": 2
}
