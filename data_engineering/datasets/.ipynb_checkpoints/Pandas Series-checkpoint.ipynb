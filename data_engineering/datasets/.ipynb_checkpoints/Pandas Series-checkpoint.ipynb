{
 "cells": [
  {
   "cell_type": "code",
   "execution_count": 50,
   "id": "18c65b5e",
   "metadata": {},
   "outputs": [
    {
     "name": "stdout",
     "output_type": "stream",
     "text": [
      "Requirement already satisfied: pandas in /home/ubuntu-user/anaconda3/lib/python3.9/site-packages (2.1.3)\n",
      "Requirement already satisfied: numpy<2,>=1.22.4 in /home/ubuntu-user/anaconda3/lib/python3.9/site-packages (from pandas) (1.24.3)\n",
      "Requirement already satisfied: python-dateutil>=2.8.2 in /home/ubuntu-user/anaconda3/lib/python3.9/site-packages (from pandas) (2.8.2)\n",
      "Requirement already satisfied: pytz>=2020.1 in /home/ubuntu-user/anaconda3/lib/python3.9/site-packages (from pandas) (2023.3.post1)\n",
      "Requirement already satisfied: tzdata>=2022.1 in /home/ubuntu-user/anaconda3/lib/python3.9/site-packages (from pandas) (2023.3)\n",
      "Requirement already satisfied: six>=1.5 in /home/ubuntu-user/anaconda3/lib/python3.9/site-packages (from python-dateutil>=2.8.2->pandas) (1.16.0)\n",
      "\u001b[33mWARNING: There was an error checking the latest version of pip.\u001b[0m\u001b[33m\n",
      "\u001b[0m"
     ]
    }
   ],
   "source": [
    "!pip install pandas --upgrade"
   ]
  },
  {
   "cell_type": "code",
   "execution_count": 51,
   "id": "f9634f66",
   "metadata": {},
   "outputs": [
    {
     "data": {
      "text/plain": [
       "'2.1.3'"
      ]
     },
     "execution_count": 51,
     "metadata": {},
     "output_type": "execute_result"
    }
   ],
   "source": [
    "import pandas as pd\n",
    "pd.__version__"
   ]
  },
  {
   "cell_type": "code",
   "execution_count": 52,
   "id": "d85104ab",
   "metadata": {},
   "outputs": [],
   "source": [
    "#pandas data frames = tabular representation of data. rows and columns. \n",
    "#series = 1 dimensional array of your data structure. "
   ]
  },
  {
   "cell_type": "code",
   "execution_count": 53,
   "id": "41312544",
   "metadata": {},
   "outputs": [
    {
     "data": {
      "text/plain": [
       "0    3\n",
       "1    4\n",
       "2    7\n",
       "3    2\n",
       "4    9\n",
       "dtype: int64"
      ]
     },
     "execution_count": 53,
     "metadata": {},
     "output_type": "execute_result"
    }
   ],
   "source": [
    "list_of_nums = [3,4,7,2,9]\n",
    "series_of_nums = pd.Series(list_of_nums)\n",
    "series_of_nums"
   ]
  },
  {
   "cell_type": "code",
   "execution_count": 54,
   "id": "9334e01f",
   "metadata": {},
   "outputs": [
    {
     "data": {
      "text/plain": [
       "4"
      ]
     },
     "execution_count": 54,
     "metadata": {},
     "output_type": "execute_result"
    }
   ],
   "source": [
    "#first column is the index column, second is the values in the example\n",
    "series_of_nums[1]"
   ]
  },
  {
   "cell_type": "code",
   "execution_count": 55,
   "id": "f32cc561",
   "metadata": {},
   "outputs": [
    {
     "data": {
      "text/plain": [
       "0    3\n",
       "3    2\n",
       "4    9\n",
       "dtype: int64"
      ]
     },
     "execution_count": 55,
     "metadata": {},
     "output_type": "execute_result"
    }
   ],
   "source": [
    "#access multiple elements of the series using a mask\n",
    "index_mask = [0,3,4]\n",
    "index_mask\n",
    "series_of_nums[index_mask]"
   ]
  },
  {
   "cell_type": "code",
   "execution_count": 56,
   "id": "9696875e",
   "metadata": {},
   "outputs": [
    {
     "data": {
      "text/plain": [
       "0    3\n",
       "3    2\n",
       "dtype: int64"
      ]
     },
     "execution_count": 56,
     "metadata": {},
     "output_type": "execute_result"
    }
   ],
   "source": [
    "boolean_mask = [True, False, False, True, False]\n",
    "series_of_nums[boolean_mask]"
   ]
  },
  {
   "cell_type": "code",
   "execution_count": 57,
   "id": "181b2e85",
   "metadata": {},
   "outputs": [
    {
     "data": {
      "text/plain": [
       "RangeIndex(start=0, stop=5, step=1)"
      ]
     },
     "execution_count": 57,
     "metadata": {},
     "output_type": "execute_result"
    }
   ],
   "source": [
    "#value of true implies you want the value returned.\n",
    "series_of_nums.index"
   ]
  },
  {
   "cell_type": "code",
   "execution_count": 58,
   "id": "e3eec3b0",
   "metadata": {},
   "outputs": [
    {
     "data": {
      "text/plain": [
       "a    3\n",
       "b    4\n",
       "c    7\n",
       "d    2\n",
       "e    9\n",
       "dtype: int64"
      ]
     },
     "execution_count": 58,
     "metadata": {},
     "output_type": "execute_result"
    }
   ],
   "source": [
    "#pandas use integers as the default index type. change the series to something else by setting the pandas index value\n",
    "series_of_nums.index=['a','b','c','d', 'e']\n",
    "series_of_nums"
   ]
  },
  {
   "cell_type": "code",
   "execution_count": 59,
   "id": "43cf34ed",
   "metadata": {},
   "outputs": [
    {
     "data": {
      "text/plain": [
       "4"
      ]
     },
     "execution_count": 59,
     "metadata": {},
     "output_type": "execute_result"
    }
   ],
   "source": [
    "#return a single value by index key\n",
    "series_of_nums['b']"
   ]
  },
  {
   "cell_type": "code",
   "execution_count": 60,
   "id": "3c550c62",
   "metadata": {},
   "outputs": [
    {
     "data": {
      "text/plain": [
       "b    4\n",
       "c    7\n",
       "dtype: int64"
      ]
     },
     "execution_count": 60,
     "metadata": {},
     "output_type": "execute_result"
    }
   ],
   "source": [
    "#want to return multiple values?\n",
    "series_of_nums[['b','c']]"
   ]
  },
  {
   "cell_type": "code",
   "execution_count": 61,
   "id": "70717c79",
   "metadata": {},
   "outputs": [
    {
     "data": {
      "text/plain": [
       "a    3\n",
       "b    4\n",
       "c    7\n",
       "d    2\n",
       "e    9\n",
       "dtype: int64"
      ]
     },
     "execution_count": 61,
     "metadata": {},
     "output_type": "execute_result"
    }
   ],
   "source": [
    "#working with dictionaries\n",
    "dict_of_data= {'a': 3,\n",
    "               'b': 4,\n",
    "               'c': 7,\n",
    "               'd': 2,\n",
    "               'e': 9}\n",
    "series_from_dict = pd.Series(dict_of_data)\n",
    "series_from_dict"
   ]
  },
  {
   "cell_type": "code",
   "execution_count": 62,
   "id": "71f53a2b",
   "metadata": {},
   "outputs": [
    {
     "data": {
      "text/plain": [
       "a    3\n",
       "b    4\n",
       "c    7\n",
       "d    2\n",
       "e    9\n",
       "Name: Series from dictionary, dtype: int64"
      ]
     },
     "execution_count": 62,
     "metadata": {},
     "output_type": "execute_result"
    }
   ],
   "source": [
    "#the keys become the indexes and values become elements of the series.\n",
    "#.name variable \n",
    "series_from_dict.name = \"Series from dictionary\"\n",
    "series_from_dict"
   ]
  },
  {
   "cell_type": "code",
   "execution_count": 63,
   "id": "679ca2f3",
   "metadata": {},
   "outputs": [],
   "source": [
    "###### SERIES OPERATIONS ########\n",
    "\n",
    "#working with multiple series\n",
    "series_one = pd.Series ([1,2,3,4,5])\n",
    "series_two = pd.Series ([1,3,5,7,9])\n",
    "#1,3 and 5 are in both datasets"
   ]
  },
  {
   "cell_type": "code",
   "execution_count": 64,
   "id": "9c6eec9f",
   "metadata": {},
   "outputs": [
    {
     "data": {
      "text/plain": [
       "0     True\n",
       "1    False\n",
       "2     True\n",
       "3    False\n",
       "4     True\n",
       "dtype: bool"
      ]
     },
     "execution_count": 64,
     "metadata": {},
     "output_type": "execute_result"
    }
   ],
   "source": [
    "#not always possible to see what the data looks like or evaluate everything. methods can help evaluate the data\n",
    "#series.isin(value to compare) - returns a series along with data type\n",
    "series_one.isin(series_two)"
   ]
  },
  {
   "cell_type": "code",
   "execution_count": 66,
   "id": "850e470b",
   "metadata": {},
   "outputs": [
    {
     "data": {
      "text/plain": [
       "0    1\n",
       "2    3\n",
       "4    5\n",
       "dtype: int64"
      ]
     },
     "execution_count": 66,
     "metadata": {},
     "output_type": "execute_result"
    }
   ],
   "source": [
    "#result is a boolean mask, like we worked with earlier. can use the bolean mask to index into series one.\n",
    "series_one[series_one.isin(series_two)] #only return values in series one that exist in series_two"
   ]
  },
  {
   "cell_type": "code",
   "execution_count": 68,
   "id": "ef4b2853",
   "metadata": {},
   "outputs": [
    {
     "data": {
      "text/plain": [
       "1    2\n",
       "3    4\n",
       "dtype: int64"
      ]
     },
     "execution_count": 68,
     "metadata": {},
     "output_type": "execute_result"
    }
   ],
   "source": [
    "#reverse - find items in one array that aren't in the other. \n",
    "#Use a tilde. false values become true, true becomes false.\n",
    "series_one[~series_one.isin(series_two)]"
   ]
  },
  {
   "cell_type": "code",
   "execution_count": 69,
   "id": "4afbb700",
   "metadata": {},
   "outputs": [
    {
     "data": {
      "text/plain": [
       "0     1\n",
       "1     4\n",
       "2     9\n",
       "3    16\n",
       "4    25\n",
       "dtype: int64"
      ]
     },
     "execution_count": 69,
     "metadata": {},
     "output_type": "execute_result"
    }
   ],
   "source": [
    "#specifying transformations.\n",
    "#lambda functions work against every item in the series\n",
    "series_squares = series_one.map(lambda x: x*x)\n",
    "series_squares"
   ]
  },
  {
   "cell_type": "code",
   "execution_count": 71,
   "id": "2522b144",
   "metadata": {},
   "outputs": [
    {
     "data": {
      "text/plain": [
       "0     2\n",
       "1     5\n",
       "2     8\n",
       "3    11\n",
       "4    14\n",
       "dtype: int64"
      ]
     },
     "execution_count": 71,
     "metadata": {},
     "output_type": "execute_result"
    }
   ],
   "source": [
    "#have two series objects? add the elements of two series using .add to the series object.\n",
    "series_one.add(series_two)"
   ]
  },
  {
   "cell_type": "code",
   "execution_count": 73,
   "id": "11678d79",
   "metadata": {},
   "outputs": [
    {
     "data": {
      "text/plain": [
       "0    1\n",
       "1    2\n",
       "2    3\n",
       "3    4\n",
       "4    5\n",
       "dtype: int64"
      ]
     },
     "execution_count": 73,
     "metadata": {},
     "output_type": "execute_result"
    }
   ],
   "source": [
    "#changing data types using .astype\n",
    "#series_one is an int64\n",
    "series_one"
   ]
  },
  {
   "cell_type": "code",
   "execution_count": 74,
   "id": "31a929c6",
   "metadata": {},
   "outputs": [
    {
     "data": {
      "text/plain": [
       "0    1.0\n",
       "1    2.0\n",
       "2    3.0\n",
       "3    4.0\n",
       "4    5.0\n",
       "dtype: float64"
      ]
     },
     "execution_count": 74,
     "metadata": {},
     "output_type": "execute_result"
    }
   ],
   "source": [
    "series_one.astype('float64')"
   ]
  },
  {
   "cell_type": "code",
   "execution_count": 75,
   "id": "ba6450a4",
   "metadata": {},
   "outputs": [],
   "source": [
    "######### APPENDING AND SORTING SERIES #################"
   ]
  },
  {
   "cell_type": "code",
   "execution_count": 80,
   "id": "5f4120eb",
   "metadata": {},
   "outputs": [
    {
     "data": {
      "text/plain": [
       "0    1\n",
       "1    2\n",
       "2    3\n",
       "3    4\n",
       "4    5\n",
       "0    1\n",
       "1    3\n",
       "2    5\n",
       "3    7\n",
       "4    9\n",
       "dtype: int64"
      ]
     },
     "execution_count": 80,
     "metadata": {},
     "output_type": "execute_result"
    }
   ],
   "source": [
    "#append series one and series two\n",
    "series_one._append(series_two)"
   ]
  },
  {
   "cell_type": "code",
   "execution_count": null,
   "id": "f79e2186",
   "metadata": {},
   "outputs": [],
   "source": []
  }
 ],
 "metadata": {
  "kernelspec": {
   "display_name": "Python 3 (ipykernel)",
   "language": "python",
   "name": "python3"
  },
  "language_info": {
   "codemirror_mode": {
    "name": "ipython",
    "version": 3
   },
   "file_extension": ".py",
   "mimetype": "text/x-python",
   "name": "python",
   "nbconvert_exporter": "python",
   "pygments_lexer": "ipython3",
   "version": "3.9.18"
  }
 },
 "nbformat": 4,
 "nbformat_minor": 5
}
